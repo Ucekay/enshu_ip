{
 "cells": [
  {
   "cell_type": "markdown",
   "source": [
    "# 情報システム工学演習 課題提出用ファイル\n",
    "\n",
    "本ファイルに実装し、`{学籍番号}.ipynb`にリネームの上、必要な入力データ（あれば）とあわせて`{学籍番号}.zip`にまとめること。\n",
    "\n",
    "この際、`{学籍番号}.ipynb`を実行したらそのまま読み込める場所に入力データを配置しておくことが望ましい（それが難しい場合はどこかにその旨記載しておくこと）。\n",
    "レポートをコンパイルしたもの（`{学籍番号}.pdf`）と合わせてCLEから提出すること。\n",
    "\n",
    "ちなみに：`.ipynb`は嫌！という方はまずは一度ご相談ください。Python、C++、Javaなど、いろいろ対応できます。"
   ],
   "metadata": {
    "collapsed": false
   }
  },
  {
   "cell_type": "markdown",
   "source": [
    "---\n",
    "## 課題情報\n",
    "\n",
    "### 提出者\n",
    "\n",
    "学籍番号：08D12345\n",
    "\n",
    "氏名：大倉史生\n",
    "\n",
    "### 概要\n",
    "\n",
    "実装したアプリ・システム・ツールの概要・アピールポイント（簡潔に。詳細はレポートに記入すること）：\n",
    "...\n",
    "\n",
    "実行に準備（インストールや実行環境）が必要な場合、内容をここに記入：\n",
    "..."
   ],
   "metadata": {
    "collapsed": false,
    "pycharm": {
     "name": "#%% md\n"
    }
   }
  },
  {
   "cell_type": "markdown",
   "source": [
    "---\n",
    "## 実装内容\n",
    "\n",
    "適宜以下を書き換えて使ってください。必要のないセルは適宜消してください。"
   ],
   "metadata": {
    "collapsed": false
   }
  },
  {
   "cell_type": "code",
   "execution_count": 2,
   "outputs": [],
   "source": [
    "# ライブラリ類の読み込み\n",
    "import cv2\n",
    "import numpy as np  # PythonのOpenCVでは、画像はnumpyのarrayとして管理される\n",
    "from PIL import Image\n",
    "import matplotlib.pyplot as plt\n",
    "from IPython.display import display\n",
    "%matplotlib inline\n",
    "\n",
    "# 画像表示用の関数（jupyter notebookでインラインで表示したい時向け）\n",
    "def imshow_inline(img):\n",
    "    if img.ndim == 3:\n",
    "        img = cv2.cvtColor(img,cv2.COLOR_BGR2RGB) # OpenCVの画像は、BGRの順に色が並んでいるので\n",
    "        display(Image.fromarray(img))\n",
    "    else:\n",
    "        display(Image.fromarray(img))\n"
   ],
   "metadata": {
    "collapsed": false,
    "pycharm": {
     "name": "#%%\n"
    }
   }
  },
  {
   "cell_type": "code",
   "execution_count": 3,
   "outputs": [],
   "source": [
    "# 画像ファイルを入力して使う場合こんな感じ\n",
    "img = cv2.imread(\"sample/sample.jpg\")   # 適当な画像に変える。\n",
    "dst = img.copy()\n",
    "\n",
    "# なにか処理する？\n",
    "\n",
    "# 新しいウインドウを開いて表示する場合（ウインドウを閉じるか、なにかキーを押すと終了）\n",
    "cv2.namedWindow('src') # 指定されたタイトルのウインドウを開く\n",
    "cv2.imshow('src',img)  # 指定されたタイトルのウインドウに画像を表示\n",
    "cv2.namedWindow('dst') # 指定されたタイトルのウインドウを開く\n",
    "cv2.imshow('dst',dst)  # 指定されたタイトルのウインドウに画像を表示\n",
    "cv2.waitKey(0)           # キーが押されるまで{引数}[ms]の間待つ（0の場合はずっと待つ）\n",
    "cv2.destroyAllWindows()  # ウインドウを閉じる。!!!jupyter上の場合、これを忘れるとフリーズする!!!"
   ],
   "metadata": {
    "collapsed": false,
    "pycharm": {
     "name": "#%%\n"
    }
   }
  },
  {
   "cell_type": "code",
   "execution_count": 5,
   "outputs": [],
   "source": [
    "# webカメラから入力したい場合はこんな感じ\n",
    "# !!!注意!!! カメラがつながっていないとエラーになります。手元にwebカメラがないけど使ってみたい！という方は一度ご相談ください。\n",
    "\n",
    "# 引数はデバイスの順番。複数のカメラがつながっている場合は1などに変えると変わる\n",
    "cap = cv2.VideoCapture(0)\n",
    "#cap = cv2.VideoCapture(1)\n",
    "\n",
    "end_flag, frame = cap.read()  # 最初のフレームを読み込み\n",
    "height, width, channels = frame.shape\n",
    "\n",
    "cv2.namedWindow('image') # 'image'というタイトルのウインドウを開く\n",
    "\n",
    "while end_flag == True:\n",
    "    dst = frame.copy()\n",
    "\n",
    "    # なにか処理する？（30ミリ秒くらいで終わる軽量な処理をするのが、リアルタイムで実行するための秘訣）\n",
    "\n",
    "    cv2.imshow('image',dst)  # 'image'というタイトルのウインドウに画像を表示\n",
    "    key = cv2.waitKey(30) # キーが押されるまで{引数}[ms]の間待つ（0の場合はずっと待つ）\n",
    "    if key == 27 or key == ord('q'):  # qかESCが押されたら途中で終了\n",
    "        break\n",
    "\n",
    "    end_flag, frame = cap.read() # 次のフレームを読み込み\n",
    "\n",
    "cv2.destroyAllWindows()  # ウインドウを閉じる\n",
    "cap.release()"
   ],
   "metadata": {
    "collapsed": false,
    "pycharm": {
     "name": "#%%\n"
    }
   }
  }
 ],
 "metadata": {
  "kernelspec": {
   "display_name": "Python 3",
   "language": "python",
   "name": "python3"
  },
  "language_info": {
   "codemirror_mode": {
    "name": "ipython",
    "version": 2
   },
   "file_extension": ".py",
   "mimetype": "text/x-python",
   "name": "python",
   "nbconvert_exporter": "python",
   "pygments_lexer": "ipython2",
   "version": "2.7.6"
  }
 },
 "nbformat": 4,
 "nbformat_minor": 0
}