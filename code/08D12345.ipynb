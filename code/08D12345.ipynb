{
 "cells": [
  {
   "cell_type": "markdown",
   "source": [
    "# 情報システム工学演習 課題提出用ファイル（.ipynb）\n",
    "\n",
    "ファイル名を`学籍番号.ipynb`に変更して提出してください"
   ],
   "metadata": {
    "collapsed": false
   }
  },
  {
   "cell_type": "markdown",
   "source": [
    "## 提出者情報\n",
    "\n",
    "学籍番号：\n",
    "\n",
    "氏名：\n",
    "\n",
    "## 課題情報\n",
    "\n",
    "実装したシステムの概要（簡潔に　詳細はレポートに記入すること）：\n",
    "\n",
    "実行に準備（インストールや実行環境）が必要な場合、内容をここに記入："
   ],
   "metadata": {
    "collapsed": false,
    "pycharm": {
     "name": "#%% md\n"
    }
   }
  },
  {
   "cell_type": "markdown",
   "source": [
    "適宜以下を書き換えて使ってください。"
   ],
   "metadata": {
    "collapsed": false
   }
  },
  {
   "cell_type": "code",
   "execution_count": 2,
   "outputs": [],
   "source": [
    "# ライブラリ類の読み込み\n",
    "import cv2\n",
    "import numpy as np  # PythonのOpenCVでは、画像はnumpyのarrayとして管理される\n",
    "from PIL import Image\n",
    "import matplotlib.pyplot as plt\n",
    "from IPython.display import display\n",
    "%matplotlib inline\n",
    "\n",
    "# 画像表示用の関数（jupyter notebookでインラインで表示したい時向け）\n",
    "def imshow_inline(img):\n",
    "  if img.ndim == 3:\n",
    "    img = cv2.cvtColor(img,cv2.COLOR_BGR2RGB) # OpenCVの画像は、BGRの順に色が並んでいるので\n",
    "    display(Image.fromarray(img))\n",
    "  else:\n",
    "    display(Image.fromarray(img))\n"
   ],
   "metadata": {
    "collapsed": false,
    "pycharm": {
     "name": "#%%\n"
    }
   }
  },
  {
   "cell_type": "code",
   "execution_count": 3,
   "outputs": [],
   "source": [
    "# 画像ファイルの読み込み版テンプレート\n",
    "img = cv2.imread(\"sample/sample.jpg\")\n",
    "dst = img.copy()\n",
    "\n",
    "# なにか処理する？\n",
    "\n",
    "# 新しいウインドウを開いて表示する場合（ウインドウを閉じるか、なにかキーを押すと終了）\n",
    "cv2.namedWindow('src') # 指定されたタイトルのウインドウを開く\n",
    "cv2.imshow('src',img)  # 指定されたタイトルのウインドウに画像を表示\n",
    "cv2.namedWindow('dst') # 指定されたタイトルのウインドウを開く\n",
    "cv2.imshow('dst',dst)  # 指定されたタイトルのウインドウに画像を表示\n",
    "cv2.waitKey(0)           # キーが押されるまで{引数}[ms]の間待つ（0の場合はずっと待つ）\n",
    "cv2.destroyAllWindows()  # ウインドウを閉じる。!!!jupyter上の場合、これを忘れるとフリーズする!!!"
   ],
   "metadata": {
    "collapsed": false,
    "pycharm": {
     "name": "#%%\n"
    }
   }
  },
  {
   "cell_type": "code",
   "execution_count": 5,
   "outputs": [],
   "source": [
    "# webカメラの読み込み\n",
    "# !!!注意!!! 当然ですが、カメラがつながっていないとエラーになります\n",
    "\n",
    "# 引数はデバイスの順番。複数のカメラがつながっている場合は1などに変えると変わる\n",
    "cap = cv2.VideoCapture(0)\n",
    "#cap = cv2.VideoCapture(1)\n",
    "\n",
    "end_flag, frame = cap.read()  # 最初のフレームを読み込み\n",
    "height, width, channels = frame.shape\n",
    "\n",
    "cv2.namedWindow('image') # 'image'というタイトルのウインドウを開く\n",
    "\n",
    "while end_flag == True:\n",
    "    dst = frame.copy()\n",
    "\n",
    "    # なにか処理する？\n",
    "\n",
    "    cv2.imshow('image',dst)  # 'image'というタイトルのウインドウに画像を表示\n",
    "    key = cv2.waitKey(30) # キーが押されるまで{引数}[ms]の間待つ（0の場合はずっと待つ）\n",
    "    if key == 27 or key == ord('q'):  # qかESCが押されたら途中で終了\n",
    "        break\n",
    "\n",
    "    end_flag, frame = cap.read() # 次のフレームを読み込み\n",
    "\n",
    "cv2.destroyAllWindows()  # ウインドウを閉じる\n",
    "cap.release()"
   ],
   "metadata": {
    "collapsed": false,
    "pycharm": {
     "name": "#%%\n"
    }
   }
  },
  {
   "cell_type": "code",
   "execution_count": null,
   "outputs": [],
   "source": [],
   "metadata": {
    "collapsed": false,
    "pycharm": {
     "name": "#%%\n"
    }
   }
  }
 ],
 "metadata": {
  "kernelspec": {
   "display_name": "Python 3",
   "language": "python",
   "name": "python3"
  },
  "language_info": {
   "codemirror_mode": {
    "name": "ipython",
    "version": 2
   },
   "file_extension": ".py",
   "mimetype": "text/x-python",
   "name": "python",
   "nbconvert_exporter": "python",
   "pygments_lexer": "ipython2",
   "version": "2.7.6"
  }
 },
 "nbformat": 4,
 "nbformat_minor": 0
}